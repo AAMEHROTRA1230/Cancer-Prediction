{
 "cells": [
  {
   "cell_type": "code",
   "execution_count": 84,
   "metadata": {},
   "outputs": [],
   "source": [
    "import numpy as np\n",
    "import pandas as pd\n",
    "from sklearn.decomposition import PCA\n",
    "from sklearn import preprocessing\n"
   ]
  },
  {
   "attachments": {},
   "cell_type": "markdown",
   "metadata": {},
   "source": [
    "This block gathers gets the data into a usable format and seperates train and test data.\n",
    "Also normalizes the data."
   ]
  },
  {
   "cell_type": "code",
   "execution_count": 102,
   "metadata": {},
   "outputs": [],
   "source": [
    "df = pd.read_csv('../data.csv')\n",
    "npArr = df.to_numpy()\n",
    "npArr = npArr\n",
    "id = npArr[:,0]\n",
    "results = npArr[:,1]\n",
    "npArr = npArr[:,2:32]\n",
    "precentTrain = 0.8\n",
    "trainSamples = int(np.floor(np.shape(npArr)[0] * precentTrain))\n",
    "trainData = npArr[:trainSamples,:]\n",
    "trainResults = npArr[:trainSamples,:]\n",
    "testData = npArr[trainSamples:,:]\n",
    "testResults = npArr[trainSamples:,:]\n",
    "normalizationScaler = preprocessing.StandardScaler().fit(trainData)\n",
    "trainData = normalizationScaler.transform(trainData)\n"
   ]
  },
  {
   "attachments": {},
   "cell_type": "markdown",
   "metadata": {},
   "source": [
    "This block will run PCA on the training and test data "
   ]
  },
  {
   "cell_type": "code",
   "execution_count": 103,
   "metadata": {},
   "outputs": [
    {
     "name": "stdout",
     "output_type": "stream",
     "text": [
      "[1.34185392e+01 5.64046818e+00 2.96541397e+00 1.79726323e+00\n",
      " 1.66018802e+00 1.18471800e+00 6.72563056e-01 4.68169183e-01\n",
      " 4.19865590e-01 3.47916113e-01 3.15488007e-01 2.78534087e-01\n",
      " 2.38761209e-01 1.57118007e-01 9.47407848e-02 7.96349865e-02\n",
      " 6.23444657e-02 5.54679634e-02 4.53945510e-02 3.30048238e-02\n",
      " 2.96238238e-02 2.77975879e-02 2.09208325e-02 1.88132397e-02\n",
      " 1.61293557e-02 7.88857662e-03 6.74437196e-03 1.61084862e-03\n",
      " 8.22289078e-04 1.34948867e-04]\n"
     ]
    }
   ],
   "source": [
    "pca = PCA(svd_solver='full', copy=False)\n",
    "pca.fit(trainData, trainResults) # train results is ignored.\n",
    "# print(pca.explained_variance_ratio_) # percentage of variance explained be each component\n",
    "# print(pca.singular_values_) # Singular values corresponding to each of teh selected components\n",
    "print(\"The eigen values of the data is \\n\", pca.explained_variance_) # eigen values of the data.\n",
    "# print(pca.components_) # Eigen Vectors"
   ]
  },
  {
   "cell_type": "code",
   "execution_count": 109,
   "metadata": {},
   "outputs": [
    {
     "name": "stdout",
     "output_type": "stream",
     "text": [
      "Kept  7  features\n"
     ]
    }
   ],
   "source": [
    "minEigenValue = pca.explained_variance_[0] * 0.05 # Keeps top 95% of variances\n",
    "componentsKept = len(pca.explained_variance_[pca.explained_variance_ > minEigenValue])\n",
    "print(\"Kept \", componentsKept, \" features\")\n",
    "pcaTrain = PCA(n_components=componentsKept) # Creates a new pca to reduce feature set to only features with eigen values above minEigenValue\n",
    "reducedTrain = pcaTrain.fit(trainData, trainResults).transform(trainData) # Train results is ignored\n",
    "\n"
   ]
  }
 ],
 "metadata": {
  "kernelspec": {
   "display_name": "ML",
   "language": "python",
   "name": "python3"
  },
  "language_info": {
   "codemirror_mode": {
    "name": "ipython",
    "version": 3
   },
   "file_extension": ".py",
   "mimetype": "text/x-python",
   "name": "python",
   "nbconvert_exporter": "python",
   "pygments_lexer": "ipython3",
   "version": "3.10.9"
  },
  "orig_nbformat": 4
 },
 "nbformat": 4,
 "nbformat_minor": 2
}
